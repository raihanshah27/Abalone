{
  "nbformat": 4,
  "nbformat_minor": 0,
  "metadata": {
    "colab": {
      "private_outputs": true,
      "provenance": []
    },
    "kernelspec": {
      "name": "python3",
      "display_name": "Python 3"
    },
    "language_info": {
      "name": "python"
    }
  },
  "cells": [
    {
      "cell_type": "code",
      "execution_count": null,
      "metadata": {
        "id": "G_n06mH17gy9"
      },
      "outputs": [],
      "source": [
        "%matplotlib inline\n",
        "import numpy as np\n",
        "import pandas as pd\n",
        "import matplotlib.pyplot as plt\n",
        "import seaborn as sns"
      ]
    },
    {
      "cell_type": "code",
      "source": [
        "df=pd.read_csv('https://archive.ics.uci.edu/static/public/1/data.csv')\n",
        "print(df)"
      ],
      "metadata": {
        "id": "Zve7BWsU-chE"
      },
      "execution_count": null,
      "outputs": []
    },
    {
      "cell_type": "code",
      "source": [
        "print(df.head())"
      ],
      "metadata": {
        "id": "oIJfKdsuVU9R"
      },
      "execution_count": null,
      "outputs": []
    },
    {
      "cell_type": "code",
      "source": [
        "print(df.tail())"
      ],
      "metadata": {
        "id": "38_e-NIlVW95"
      },
      "execution_count": null,
      "outputs": []
    },
    {
      "cell_type": "code",
      "source": [
        "print(df.shape)"
      ],
      "metadata": {
        "id": "pslTZknNVguU"
      },
      "execution_count": null,
      "outputs": []
    },
    {
      "cell_type": "code",
      "source": [
        "print(df.columns)"
      ],
      "metadata": {
        "id": "c16y_YUlV00C"
      },
      "execution_count": null,
      "outputs": []
    },
    {
      "cell_type": "code",
      "source": [
        "print(df.describe())"
      ],
      "metadata": {
        "id": "7emcoMNTWDTq"
      },
      "execution_count": null,
      "outputs": []
    },
    {
      "cell_type": "code",
      "source": [
        "print(df.info())"
      ],
      "metadata": {
        "id": "6uO7Ao0HWMaK"
      },
      "execution_count": null,
      "outputs": []
    },
    {
      "cell_type": "code",
      "source": [
        "print(df.isnull())"
      ],
      "metadata": {
        "id": "MPdUnvDTW4x5"
      },
      "execution_count": null,
      "outputs": []
    },
    {
      "cell_type": "code",
      "source": [
        "print(df.isnull().sum())"
      ],
      "metadata": {
        "id": "kWtYl2aTW-Q0"
      },
      "execution_count": null,
      "outputs": []
    },
    {
      "cell_type": "code",
      "source": [
        "df['Sex'].head()"
      ],
      "metadata": {
        "id": "tchXdL_OXLy6"
      },
      "execution_count": null,
      "outputs": []
    },
    {
      "cell_type": "code",
      "source": [
        "df['Length'].head()"
      ],
      "metadata": {
        "id": "pjz_6NbIX_y_"
      },
      "execution_count": null,
      "outputs": []
    },
    {
      "cell_type": "code",
      "source": [
        "df['Diameter'].head()"
      ],
      "metadata": {
        "id": "zJCv5YN8YNi7"
      },
      "execution_count": null,
      "outputs": []
    },
    {
      "cell_type": "code",
      "source": [
        "df['Height'].head()"
      ],
      "metadata": {
        "id": "mwesiUYpYN5b"
      },
      "execution_count": null,
      "outputs": []
    },
    {
      "cell_type": "code",
      "source": [
        "df['Whole_weight'].head()"
      ],
      "metadata": {
        "id": "-JkaK9X7YbZS"
      },
      "execution_count": null,
      "outputs": []
    },
    {
      "cell_type": "code",
      "source": [
        "df['Shucked_weight'].head()"
      ],
      "metadata": {
        "id": "bPHA-FikYeop"
      },
      "execution_count": null,
      "outputs": []
    },
    {
      "cell_type": "code",
      "source": [
        "df['Viscera_weight'].head()"
      ],
      "metadata": {
        "id": "77YMoI9WYiRi"
      },
      "execution_count": null,
      "outputs": []
    },
    {
      "cell_type": "code",
      "source": [
        "df['Shell_weight'].head()"
      ],
      "metadata": {
        "id": "u6zbSBvqYlLx"
      },
      "execution_count": null,
      "outputs": []
    },
    {
      "cell_type": "code",
      "source": [
        "df['Rings'].head()"
      ],
      "metadata": {
        "id": "JpLuS5VRYoDq"
      },
      "execution_count": null,
      "outputs": []
    },
    {
      "cell_type": "code",
      "source": [
        "df['Rings'].value_counts()"
      ],
      "metadata": {
        "id": "RMMBJaRaY0Ey"
      },
      "execution_count": null,
      "outputs": []
    },
    {
      "cell_type": "code",
      "source": [
        "df['Rings'].value_counts().max()"
      ],
      "metadata": {
        "id": "x53INScaZJKy"
      },
      "execution_count": null,
      "outputs": []
    },
    {
      "cell_type": "code",
      "source": [
        "df['Rings'].max()"
      ],
      "metadata": {
        "id": "PAc77lBwZMh6"
      },
      "execution_count": null,
      "outputs": []
    },
    {
      "cell_type": "code",
      "source": [
        "df['Rings'].min()"
      ],
      "metadata": {
        "id": "-YOaRZhJZZhK"
      },
      "execution_count": null,
      "outputs": []
    },
    {
      "cell_type": "code",
      "source": [
        "df['Rings'].dtype"
      ],
      "metadata": {
        "id": "DdSbXch0ZdlZ"
      },
      "execution_count": null,
      "outputs": []
    },
    {
      "cell_type": "code",
      "source": [
        "print(df['Rings'].shape)"
      ],
      "metadata": {
        "id": "bYimu0wFZm4D"
      },
      "execution_count": null,
      "outputs": []
    },
    {
      "cell_type": "code",
      "source": [
        "# Create a new column 'D' which is the sum of columns 'A' and 'B'\n",
        "df['Age'] = df['Rings'] + 1.5\n",
        "df['Age'].head()"
      ],
      "metadata": {
        "id": "i89Ec8ljh5nD"
      },
      "execution_count": null,
      "outputs": []
    },
    {
      "cell_type": "code",
      "source": [
        "df['Sex'] = df['Sex'].map({'M': 1, 'F': 0,'I':2})\n",
        "print(df['Sex'].head())"
      ],
      "metadata": {
        "id": "HPj8x4-Xj__Y"
      },
      "execution_count": null,
      "outputs": []
    },
    {
      "cell_type": "code",
      "source": [
        "# Dropping the Age column (you don't want to use it during training)\n",
        "X = df.drop(columns=['Age', 'Rings'])  # Features (physical measurements)\n",
        "y = df['Rings']  # Target (number of rings)"
      ],
      "metadata": {
        "id": "KC2jC6_UjEyy"
      },
      "execution_count": null,
      "outputs": []
    },
    {
      "cell_type": "code",
      "source": [
        "# Split the data into training and testing sets\n",
        "X_train, X_test, y_train, y_test = train_test_split(X, Y, test_size=0.3, random_state=42)"
      ],
      "metadata": {
        "id": "jpl2ACzCcegU"
      },
      "execution_count": null,
      "outputs": []
    },
    {
      "cell_type": "code",
      "source": [
        "# Additional imports for data preprocessing and evaluation\n",
        "from sklearn.model_selection import train_test_split\n",
        "from sklearn.preprocessing import StandardScaler\n",
        "from sklearn.metrics import mean_squared_error, r2_score"
      ],
      "metadata": {
        "id": "X20LNDlHewgr"
      },
      "execution_count": null,
      "outputs": []
    },
    {
      "cell_type": "code",
      "source": [
        "print(X_train.head())\n",
        "print(X_test.head())\n",
        "print(y_train.head())\n",
        "print(y_test.head())"
      ],
      "metadata": {
        "id": "quStOjMYe3rd"
      },
      "execution_count": null,
      "outputs": []
    },
    {
      "cell_type": "code",
      "source": [
        "# Import necessary libraries for regression models\n",
        "from sklearn.linear_model import LinearRegression\n",
        "from sklearn.tree import DecisionTreeRegressor\n",
        "from sklearn.ensemble import RandomForestRegressor, GradientBoostingRegressor\n",
        "from sklearn.svm import SVR\n",
        "from sklearn.neighbors import KNeighborsRegressor\n",
        "from sklearn.neural_network import MLPRegressor"
      ],
      "metadata": {
        "id": "aSZCT_9ne3f6"
      },
      "execution_count": null,
      "outputs": []
    },
    {
      "cell_type": "code",
      "source": [
        "# Train a regression model (e.g., Random Forest)\n",
        "from sklearn.ensemble import RandomForestRegressor"
      ],
      "metadata": {
        "id": "f84B6BnWjPBa"
      },
      "execution_count": null,
      "outputs": []
    },
    {
      "cell_type": "code",
      "source": [
        "model = RandomForestRegressor()\n",
        "model.fit(X, y)"
      ],
      "metadata": {
        "id": "84SzsmO5jcIo"
      },
      "execution_count": null,
      "outputs": []
    },
    {
      "cell_type": "code",
      "source": [
        "# Predict the number of rings using the trained model\n",
        "predicted_rings = model.predict(X)\n",
        "print(predicted_rings)"
      ],
      "metadata": {
        "id": "wLO0kYktjmYr"
      },
      "execution_count": null,
      "outputs": []
    },
    {
      "cell_type": "code",
      "source": [
        "# Compute the predicted age based on predicted rings\n",
        "predicted_age = predicted_rings + 1.5\n",
        "print(predicted_age)"
      ],
      "metadata": {
        "id": "sVwbeAubjqTK"
      },
      "execution_count": null,
      "outputs": []
    },
    {
      "cell_type": "code",
      "source": [
        "# Import necessary evaluation metrics for regression\n",
        "from sklearn.metrics import mean_squared_error, mean_absolute_error, r2_score, mean_squared_log_error"
      ],
      "metadata": {
        "id": "Tqbyp-mYfjNi"
      },
      "execution_count": null,
      "outputs": []
    },
    {
      "cell_type": "code",
      "source": [
        "mse = mean_squared_error(y, predicted_rings)\n",
        "print(mse)"
      ],
      "metadata": {
        "id": "h0JGWtqhfm-T"
      },
      "execution_count": null,
      "outputs": []
    },
    {
      "cell_type": "code",
      "source": [
        "# Mean Absolute Error (MAE)\n",
        "mae = mean_absolute_error(y, predicted_rings)\n",
        "print(mae)"
      ],
      "metadata": {
        "id": "wDkkKTXLfqDE"
      },
      "execution_count": null,
      "outputs": []
    },
    {
      "cell_type": "code",
      "source": [
        "# R-squared Score (R2)\n",
        "r2 = r2_score(y, predicted_rings)\n",
        "print(r2)"
      ],
      "metadata": {
        "id": "KiiODbjrfszS"
      },
      "execution_count": null,
      "outputs": []
    },
    {
      "cell_type": "code",
      "source": [
        "# Mean Squared Logarithmic Error (MSLE) - useful when target values are large and you want to penalize underestimates\n",
        "msle = mean_squared_log_error(y, predicted_rings)\n",
        "print(msle)"
      ],
      "metadata": {
        "id": "fY2HI1xMfvDj"
      },
      "execution_count": null,
      "outputs": []
    }
  ]
}